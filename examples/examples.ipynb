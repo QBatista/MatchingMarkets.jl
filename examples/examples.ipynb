{
 "cells": [
  {
   "cell_type": "code",
   "execution_count": 1,
   "metadata": {
    "collapsed": true
   },
   "outputs": [],
   "source": [
    "using Matching"
   ]
  },
  {
   "cell_type": "markdown",
   "metadata": {},
   "source": [
    "## Example 2.9"
   ]
  },
  {
   "cell_type": "code",
   "execution_count": 10,
   "metadata": {
    "collapsed": false
   },
   "outputs": [],
   "source": [
    "m, n = 5, 4;"
   ]
  },
  {
   "cell_type": "code",
   "execution_count": 4,
   "metadata": {
    "collapsed": false
   },
   "outputs": [
    {
     "data": {
      "text/plain": [
       "5x5 Array{Int64,2}:\n",
       " 1  4  4  1  1\n",
       " 2  2  3  4  2\n",
       " 3  3  1  3  4\n",
       " 4  1  2  2  0\n",
       " 0  0  0  0  3"
      ]
     },
     "execution_count": 4,
     "metadata": {},
     "output_type": "execute_result"
    }
   ],
   "source": [
    "m_prefs = [\n",
    "    1, 2, 3, 4, 0,\n",
    "    4, 2, 3, 1, 0,\n",
    "    4, 3, 1, 2, 0,\n",
    "    1, 4, 3, 2, 0,\n",
    "    1, 2, 4, 0, 3,\n",
    "]\n",
    "m_prefs = reshape(m_prefs, n+1, m)"
   ]
  },
  {
   "cell_type": "code",
   "execution_count": 5,
   "metadata": {
    "collapsed": false
   },
   "outputs": [
    {
     "data": {
      "text/plain": [
       "6x4 Array{Int64,2}:\n",
       " 2  3  5  1\n",
       " 3  1  4  4\n",
       " 1  2  1  5\n",
       " 4  4  2  2\n",
       " 5  5  3  3\n",
       " 0  0  0  0"
      ]
     },
     "execution_count": 5,
     "metadata": {},
     "output_type": "execute_result"
    }
   ],
   "source": [
    "f_prefs = [\n",
    "    2, 3, 1, 4, 5, 0,\n",
    "    3, 1, 2, 4, 5, 0,\n",
    "    5, 4, 1, 2, 3, 0,\n",
    "    1, 4, 5, 2, 3, 0,\n",
    "]\n",
    "f_prefs = reshape(f_prefs, m+1, n)"
   ]
  },
  {
   "cell_type": "code",
   "execution_count": 7,
   "metadata": {
    "collapsed": false
   },
   "outputs": [
    {
     "data": {
      "text/plain": [
       "([1,2,3,4,0],[1,2,3,4])"
      ]
     },
     "execution_count": 7,
     "metadata": {},
     "output_type": "execute_result"
    }
   ],
   "source": [
    "deferred_acceptance(m_prefs, f_prefs)"
   ]
  },
  {
   "cell_type": "code",
   "execution_count": 8,
   "metadata": {
    "collapsed": false
   },
   "outputs": [
    {
     "data": {
      "text/plain": [
       "([2,3,4,1],[4,1,2,3,0])"
      ]
     },
     "execution_count": 8,
     "metadata": {},
     "output_type": "execute_result"
    }
   ],
   "source": [
    "deferred_acceptance(f_prefs, m_prefs)"
   ]
  },
  {
   "cell_type": "markdown",
   "metadata": {},
   "source": [
    "## Example 2.17"
   ]
  },
  {
   "cell_type": "code",
   "execution_count": 11,
   "metadata": {
    "collapsed": false
   },
   "outputs": [],
   "source": [
    "m = n = 4;"
   ]
  },
  {
   "cell_type": "code",
   "execution_count": 12,
   "metadata": {
    "collapsed": false
   },
   "outputs": [
    {
     "data": {
      "text/plain": [
       "5x4 Array{Int64,2}:\n",
       " 1  2  3  4\n",
       " 2  1  4  3\n",
       " 3  4  1  2\n",
       " 4  3  2  1\n",
       " 0  0  0  0"
      ]
     },
     "execution_count": 12,
     "metadata": {},
     "output_type": "execute_result"
    }
   ],
   "source": [
    "m_prefs = [\n",
    "    1, 2, 3, 4, 0,\n",
    "    2, 1, 4, 3, 0,\n",
    "    3, 4, 1, 2, 0,\n",
    "    4, 3, 2, 1, 0,\n",
    "]\n",
    "m_prefs = reshape(m_prefs, n+1, m)"
   ]
  },
  {
   "cell_type": "code",
   "execution_count": 13,
   "metadata": {
    "collapsed": false
   },
   "outputs": [
    {
     "data": {
      "text/plain": [
       "5x4 Array{Int64,2}:\n",
       " 4  3  2  1\n",
       " 3  4  1  2\n",
       " 2  1  4  3\n",
       " 1  2  3  4\n",
       " 0  0  0  0"
      ]
     },
     "execution_count": 13,
     "metadata": {},
     "output_type": "execute_result"
    }
   ],
   "source": [
    "f_prefs = [\n",
    "    4, 3, 2, 1, 0,\n",
    "    3, 4, 1, 2, 0,\n",
    "    2, 1, 4, 3, 0,\n",
    "    1, 2, 3, 4, 0,\n",
    "]\n",
    "f_prefs = reshape(f_prefs, m+1, n)"
   ]
  },
  {
   "cell_type": "code",
   "execution_count": 14,
   "metadata": {
    "collapsed": false
   },
   "outputs": [
    {
     "data": {
      "text/plain": [
       "([1,2,3,4],[1,2,3,4])"
      ]
     },
     "execution_count": 14,
     "metadata": {},
     "output_type": "execute_result"
    }
   ],
   "source": [
    "deferred_acceptance(m_prefs, f_prefs)"
   ]
  },
  {
   "cell_type": "code",
   "execution_count": 15,
   "metadata": {
    "collapsed": false
   },
   "outputs": [
    {
     "data": {
      "text/plain": [
       "([4,3,2,1],[4,3,2,1])"
      ]
     },
     "execution_count": 15,
     "metadata": {},
     "output_type": "execute_result"
    }
   ],
   "source": [
    "deferred_acceptance(f_prefs, m_prefs)"
   ]
  },
  {
   "cell_type": "markdown",
   "metadata": {},
   "source": [
    "## Example 5.24"
   ]
  },
  {
   "cell_type": "code",
   "execution_count": 18,
   "metadata": {
    "collapsed": false
   },
   "outputs": [
    {
     "data": {
      "text/plain": [
       "4-element Array{Int64,1}:\n",
       " 2\n",
       " 2\n",
       " 2\n",
       " 2"
      ]
     },
     "execution_count": 18,
     "metadata": {},
     "output_type": "execute_result"
    }
   ],
   "source": [
    "m_caps = Array(Int, m)\n",
    "fill!(m_caps, 2)\n",
    "f_caps = m_caps"
   ]
  },
  {
   "cell_type": "code",
   "execution_count": 19,
   "metadata": {
    "collapsed": false
   },
   "outputs": [
    {
     "data": {
      "text/plain": [
       "([1,2,1,2,3,4,3,4],[1,2,2,1,3,4,4,3],[1,3,5,7,9],[1,3,5,7,9])"
      ]
     },
     "execution_count": 19,
     "metadata": {},
     "output_type": "execute_result"
    }
   ],
   "source": [
    "deferred_acceptance(m_prefs, f_prefs, m_caps, f_caps)"
   ]
  },
  {
   "cell_type": "code",
   "execution_count": 20,
   "metadata": {
    "collapsed": false
   },
   "outputs": [
    {
     "data": {
      "text/plain": [
       "([3,4,3,4,1,2,1,2],[4,3,3,4,2,1,1,2],[1,3,5,7,9],[1,3,5,7,9])"
      ]
     },
     "execution_count": 20,
     "metadata": {},
     "output_type": "execute_result"
    }
   ],
   "source": [
    "deferred_acceptance(f_prefs, m_prefs, f_caps, m_caps)"
   ]
  },
  {
   "cell_type": "markdown",
   "metadata": {},
   "source": [
    "## Page 162"
   ]
  },
  {
   "cell_type": "code",
   "execution_count": 21,
   "metadata": {
    "collapsed": true
   },
   "outputs": [],
   "source": [
    "m, n = 7, 5;"
   ]
  },
  {
   "cell_type": "code",
   "execution_count": 22,
   "metadata": {
    "collapsed": false
   },
   "outputs": [
    {
     "data": {
      "text/plain": [
       "6x7 Array{Int64,2}:\n",
       " 5  2  3  4  1  1  1\n",
       " 1  5  1  1  2  3  3\n",
       " 0  1  0  0  0  0  4\n",
       " 2  0  2  2  3  2  0\n",
       " 3  3  4  3  4  4  2\n",
       " 4  4  5  5  5  5  6"
      ]
     },
     "execution_count": 22,
     "metadata": {},
     "output_type": "execute_result"
    }
   ],
   "source": [
    "s_prefs = [\n",
    "    5, 1, 0, 2, 3, 4,\n",
    "    2, 5, 1, 0, 3, 4,\n",
    "    3, 1, 0, 2, 4, 5,\n",
    "    4, 1, 0, 2, 3, 5,\n",
    "    1, 2, 0, 3, 4, 5,\n",
    "    1, 3, 0, 2, 4, 5,\n",
    "    1, 3, 4, 0, 2, 6,\n",
    "]\n",
    "s_prefs = reshape(s_prefs, n+1, m)"
   ]
  },
  {
   "cell_type": "code",
   "execution_count": 24,
   "metadata": {
    "collapsed": false
   },
   "outputs": [
    {
     "data": {
      "text/plain": [
       "8x5 Array{Int64,2}:\n",
       " 1  5  6  7  2\n",
       " 2  2  7  4  1\n",
       " 3  0  3  0  0\n",
       " 4  1  0  1  3\n",
       " 5  3  1  2  4\n",
       " 6  4  2  3  5\n",
       " 7  6  4  5  6\n",
       " 0  7  5  6  7"
      ]
     },
     "execution_count": 24,
     "metadata": {},
     "output_type": "execute_result"
    }
   ],
   "source": [
    "c_prefs = [\n",
    "    1, 2, 3, 4, 5, 6, 7, 0,\n",
    "    5, 2, 0, 1, 3, 4, 6, 7,\n",
    "    6, 7, 3, 0, 1, 2, 4, 5,\n",
    "    7, 4, 0, 1, 2, 3, 5, 6,\n",
    "    2, 1, 0, 3, 4, 5, 6, 7,\n",
    "]\n",
    "c_prefs = reshape(c_prefs, m+1, n)"
   ]
  },
  {
   "cell_type": "code",
   "execution_count": 26,
   "metadata": {
    "collapsed": false
   },
   "outputs": [
    {
     "data": {
      "text/plain": [
       "5-element Array{Int64,1}:\n",
       " 3\n",
       " 1\n",
       " 1\n",
       " 1\n",
       " 1"
      ]
     },
     "execution_count": 26,
     "metadata": {},
     "output_type": "execute_result"
    }
   ],
   "source": [
    "caps = ones(Int, n)\n",
    "caps[1] = 3\n",
    "caps"
   ]
  },
  {
   "cell_type": "code",
   "execution_count": 27,
   "metadata": {
    "collapsed": false
   },
   "outputs": [
    {
     "data": {
      "text/plain": [
       "([5,2,3,4,1,1,1],[5,6,7,2,3,4,1],[1,4,5,6,7,8])"
      ]
     },
     "execution_count": 27,
     "metadata": {},
     "output_type": "execute_result"
    }
   ],
   "source": [
    "deferred_acceptance(s_prefs, c_prefs, caps)"
   ]
  },
  {
   "cell_type": "code",
   "execution_count": 30,
   "metadata": {
    "collapsed": false
   },
   "outputs": [
    {
     "data": {
      "text/plain": [
       "([5,2,3,4,1,1,1],[5,6,7,2,3,4,1],[1,2,3,4,5,6,7,8],[1,4,5,6,7,8])"
      ]
     },
     "execution_count": 30,
     "metadata": {},
     "output_type": "execute_result"
    }
   ],
   "source": [
    "deferred_acceptance(s_prefs, c_prefs, ones(Int, m), caps)"
   ]
  },
  {
   "cell_type": "code",
   "execution_count": 29,
   "metadata": {
    "collapsed": false
   },
   "outputs": [
    {
     "data": {
      "text/plain": [
       "([1,3,4,5,6,7,2],[1,5,1,1,2,3,4],[1,4,5,6,7,8],[1,2,3,4,5,6,7,8])"
      ]
     },
     "execution_count": 29,
     "metadata": {},
     "output_type": "execute_result"
    }
   ],
   "source": [
    "deferred_acceptance(c_prefs, s_prefs, caps, ones(Int, m))"
   ]
  },
  {
   "cell_type": "code",
   "execution_count": null,
   "metadata": {
    "collapsed": true
   },
   "outputs": [],
   "source": []
  }
 ],
 "metadata": {
  "anaconda-cloud": {},
  "kernelspec": {
   "display_name": "Julia 0.4.6",
   "language": "julia",
   "name": "julia-0.4"
  },
  "language_info": {
   "file_extension": ".jl",
   "mimetype": "application/julia",
   "name": "julia",
   "version": "0.4.6"
  }
 },
 "nbformat": 4,
 "nbformat_minor": 0
}

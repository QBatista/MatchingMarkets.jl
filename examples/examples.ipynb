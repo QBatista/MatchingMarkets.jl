{
 "cells": [
  {
   "cell_type": "markdown",
   "metadata": {},
   "source": [
    "# Examples"
   ]
  },
  {
   "cell_type": "code",
   "execution_count": 1,
   "metadata": {
    "collapsed": true
   },
   "outputs": [],
   "source": [
    "using MatchingMarkets"
   ]
  },
  {
   "cell_type": "markdown",
   "metadata": {},
   "source": [
    "## Roth and Sotomayor (1990)"
   ]
  },
  {
   "cell_type": "markdown",
   "metadata": {},
   "source": [
    "### Example 2.9"
   ]
  },
  {
   "cell_type": "code",
   "execution_count": 2,
   "metadata": {},
   "outputs": [],
   "source": [
    "m, n = 5, 4;"
   ]
  },
  {
   "cell_type": "code",
   "execution_count": 3,
   "metadata": {},
   "outputs": [
    {
     "data": {
      "text/plain": [
       "5×5 Array{Int64,2}:\n",
       " 1  4  4  1  1\n",
       " 2  2  3  4  2\n",
       " 3  3  1  3  4\n",
       " 4  1  2  2  0\n",
       " 0  0  0  0  3"
      ]
     },
     "execution_count": 3,
     "metadata": {},
     "output_type": "execute_result"
    }
   ],
   "source": [
    "m_prefs = [\n",
    "    1, 2, 3, 4, 0,\n",
    "    4, 2, 3, 1, 0,\n",
    "    4, 3, 1, 2, 0,\n",
    "    1, 4, 3, 2, 0,\n",
    "    1, 2, 4, 0, 3,\n",
    "]\n",
    "m_prefs = reshape(m_prefs, n+1, m)"
   ]
  },
  {
   "cell_type": "code",
   "execution_count": 4,
   "metadata": {},
   "outputs": [
    {
     "data": {
      "text/plain": [
       "6×4 Array{Int64,2}:\n",
       " 2  3  5  1\n",
       " 3  1  4  4\n",
       " 1  2  1  5\n",
       " 4  4  2  2\n",
       " 5  5  3  3\n",
       " 0  0  0  0"
      ]
     },
     "execution_count": 4,
     "metadata": {},
     "output_type": "execute_result"
    }
   ],
   "source": [
    "f_prefs = [\n",
    "    2, 3, 1, 4, 5, 0,\n",
    "    3, 1, 2, 4, 5, 0,\n",
    "    5, 4, 1, 2, 3, 0,\n",
    "    1, 4, 5, 2, 3, 0,\n",
    "]\n",
    "f_prefs = reshape(f_prefs, m+1, n)"
   ]
  },
  {
   "cell_type": "code",
   "execution_count": 5,
   "metadata": {},
   "outputs": [
    {
     "data": {
      "text/plain": [
       "([1, 2, 3, 4, 0], [1, 2, 3, 4])"
      ]
     },
     "execution_count": 5,
     "metadata": {},
     "output_type": "execute_result"
    }
   ],
   "source": [
    "deferred_acceptance(m_prefs, f_prefs)"
   ]
  },
  {
   "cell_type": "code",
   "execution_count": 6,
   "metadata": {},
   "outputs": [
    {
     "data": {
      "text/plain": [
       "([2, 3, 4, 1], [4, 1, 2, 3, 0])"
      ]
     },
     "execution_count": 6,
     "metadata": {},
     "output_type": "execute_result"
    }
   ],
   "source": [
    "deferred_acceptance(f_prefs, m_prefs)"
   ]
  },
  {
   "cell_type": "markdown",
   "metadata": {},
   "source": [
    "### Example 2.17"
   ]
  },
  {
   "cell_type": "code",
   "execution_count": 7,
   "metadata": {},
   "outputs": [],
   "source": [
    "m = n = 4;"
   ]
  },
  {
   "cell_type": "code",
   "execution_count": 8,
   "metadata": {},
   "outputs": [
    {
     "data": {
      "text/plain": [
       "5×4 Array{Int64,2}:\n",
       " 1  2  3  4\n",
       " 2  1  4  3\n",
       " 3  4  1  2\n",
       " 4  3  2  1\n",
       " 0  0  0  0"
      ]
     },
     "execution_count": 8,
     "metadata": {},
     "output_type": "execute_result"
    }
   ],
   "source": [
    "m_prefs = [\n",
    "    1, 2, 3, 4, 0,\n",
    "    2, 1, 4, 3, 0,\n",
    "    3, 4, 1, 2, 0,\n",
    "    4, 3, 2, 1, 0,\n",
    "]\n",
    "m_prefs = reshape(m_prefs, n+1, m)"
   ]
  },
  {
   "cell_type": "code",
   "execution_count": 9,
   "metadata": {},
   "outputs": [
    {
     "data": {
      "text/plain": [
       "5×4 Array{Int64,2}:\n",
       " 4  3  2  1\n",
       " 3  4  1  2\n",
       " 2  1  4  3\n",
       " 1  2  3  4\n",
       " 0  0  0  0"
      ]
     },
     "execution_count": 9,
     "metadata": {},
     "output_type": "execute_result"
    }
   ],
   "source": [
    "f_prefs = [\n",
    "    4, 3, 2, 1, 0,\n",
    "    3, 4, 1, 2, 0,\n",
    "    2, 1, 4, 3, 0,\n",
    "    1, 2, 3, 4, 0,\n",
    "]\n",
    "f_prefs = reshape(f_prefs, m+1, n)"
   ]
  },
  {
   "cell_type": "code",
   "execution_count": 10,
   "metadata": {},
   "outputs": [
    {
     "data": {
      "text/plain": [
       "([1, 2, 3, 4], [1, 2, 3, 4])"
      ]
     },
     "execution_count": 10,
     "metadata": {},
     "output_type": "execute_result"
    }
   ],
   "source": [
    "deferred_acceptance(m_prefs, f_prefs)"
   ]
  },
  {
   "cell_type": "code",
   "execution_count": 11,
   "metadata": {},
   "outputs": [
    {
     "data": {
      "text/plain": [
       "([4, 3, 2, 1], [4, 3, 2, 1])"
      ]
     },
     "execution_count": 11,
     "metadata": {},
     "output_type": "execute_result"
    }
   ],
   "source": [
    "deferred_acceptance(f_prefs, m_prefs)"
   ]
  },
  {
   "cell_type": "markdown",
   "metadata": {},
   "source": [
    "### Example 5.24"
   ]
  },
  {
   "cell_type": "code",
   "execution_count": 12,
   "metadata": {},
   "outputs": [
    {
     "data": {
      "text/plain": [
       "4-element Array{Int64,1}:\n",
       " 2\n",
       " 2\n",
       " 2\n",
       " 2"
      ]
     },
     "execution_count": 12,
     "metadata": {},
     "output_type": "execute_result"
    }
   ],
   "source": [
    "m_caps = fill(2, m)\n",
    "f_caps = m_caps"
   ]
  },
  {
   "cell_type": "code",
   "execution_count": 13,
   "metadata": {},
   "outputs": [
    {
     "data": {
      "text/plain": [
       "([1, 2, 1, 2, 3, 4, 3, 4], [1, 2, 2, 1, 3, 4, 4, 3], [1, 3, 5, 7, 9], [1, 3, 5, 7, 9])"
      ]
     },
     "execution_count": 13,
     "metadata": {},
     "output_type": "execute_result"
    }
   ],
   "source": [
    "deferred_acceptance(m_prefs, f_prefs, m_caps, f_caps)"
   ]
  },
  {
   "cell_type": "code",
   "execution_count": 14,
   "metadata": {},
   "outputs": [
    {
     "data": {
      "text/plain": [
       "([3, 4, 3, 4, 1, 2, 1, 2], [4, 3, 3, 4, 2, 1, 1, 2], [1, 3, 5, 7, 9], [1, 3, 5, 7, 9])"
      ]
     },
     "execution_count": 14,
     "metadata": {},
     "output_type": "execute_result"
    }
   ],
   "source": [
    "deferred_acceptance(f_prefs, m_prefs, f_caps, m_caps)"
   ]
  },
  {
   "cell_type": "markdown",
   "metadata": {},
   "source": [
    "### Page 162"
   ]
  },
  {
   "cell_type": "code",
   "execution_count": 15,
   "metadata": {
    "collapsed": true
   },
   "outputs": [],
   "source": [
    "m, n = 7, 5;"
   ]
  },
  {
   "cell_type": "code",
   "execution_count": 16,
   "metadata": {},
   "outputs": [
    {
     "data": {
      "text/plain": [
       "6×7 Array{Int64,2}:\n",
       " 5  2  3  4  1  1  1\n",
       " 1  5  1  1  2  3  3\n",
       " 0  1  0  0  0  0  4\n",
       " 2  0  2  2  3  2  0\n",
       " 3  3  4  3  4  4  2\n",
       " 4  4  5  5  5  5  6"
      ]
     },
     "execution_count": 16,
     "metadata": {},
     "output_type": "execute_result"
    }
   ],
   "source": [
    "s_prefs = [\n",
    "    5, 1, 0, 2, 3, 4,\n",
    "    2, 5, 1, 0, 3, 4,\n",
    "    3, 1, 0, 2, 4, 5,\n",
    "    4, 1, 0, 2, 3, 5,\n",
    "    1, 2, 0, 3, 4, 5,\n",
    "    1, 3, 0, 2, 4, 5,\n",
    "    1, 3, 4, 0, 2, 6,\n",
    "]\n",
    "s_prefs = reshape(s_prefs, n+1, m)"
   ]
  },
  {
   "cell_type": "code",
   "execution_count": 17,
   "metadata": {},
   "outputs": [
    {
     "data": {
      "text/plain": [
       "8×5 Array{Int64,2}:\n",
       " 1  5  6  7  2\n",
       " 2  2  7  4  1\n",
       " 3  0  3  0  0\n",
       " 4  1  0  1  3\n",
       " 5  3  1  2  4\n",
       " 6  4  2  3  5\n",
       " 7  6  4  5  6\n",
       " 0  7  5  6  7"
      ]
     },
     "execution_count": 17,
     "metadata": {},
     "output_type": "execute_result"
    }
   ],
   "source": [
    "c_prefs = [\n",
    "    1, 2, 3, 4, 5, 6, 7, 0,\n",
    "    5, 2, 0, 1, 3, 4, 6, 7,\n",
    "    6, 7, 3, 0, 1, 2, 4, 5,\n",
    "    7, 4, 0, 1, 2, 3, 5, 6,\n",
    "    2, 1, 0, 3, 4, 5, 6, 7,\n",
    "]\n",
    "c_prefs = reshape(c_prefs, m+1, n)"
   ]
  },
  {
   "cell_type": "code",
   "execution_count": 18,
   "metadata": {},
   "outputs": [
    {
     "data": {
      "text/plain": [
       "5-element Array{Int64,1}:\n",
       " 3\n",
       " 1\n",
       " 1\n",
       " 1\n",
       " 1"
      ]
     },
     "execution_count": 18,
     "metadata": {},
     "output_type": "execute_result"
    }
   ],
   "source": [
    "caps = ones(Int, n)\n",
    "caps[1] = 3\n",
    "caps"
   ]
  },
  {
   "cell_type": "code",
   "execution_count": 19,
   "metadata": {},
   "outputs": [
    {
     "data": {
      "text/plain": [
       "([5, 2, 3, 4, 1, 1, 1], [7, 6, 5, 2, 3, 4, 1], [1, 4, 5, 6, 7, 8])"
      ]
     },
     "execution_count": 19,
     "metadata": {},
     "output_type": "execute_result"
    }
   ],
   "source": [
    "deferred_acceptance(s_prefs, c_prefs, caps)"
   ]
  },
  {
   "cell_type": "code",
   "execution_count": 20,
   "metadata": {},
   "outputs": [
    {
     "data": {
      "text/plain": [
       "([5, 2, 3, 4, 1, 1, 1], [7, 6, 5, 2, 3, 4, 1], [1, 4, 5, 6, 7, 8])"
      ]
     },
     "execution_count": 20,
     "metadata": {},
     "output_type": "execute_result"
    }
   ],
   "source": [
    "deferred_acceptance(s_prefs, c_prefs, caps, SProposing)"
   ]
  },
  {
   "cell_type": "code",
   "execution_count": 21,
   "metadata": {},
   "outputs": [
    {
     "data": {
      "text/plain": [
       "([1, 5, 1, 1, 2, 3, 4], [1, 3, 4, 5, 6, 7, 2], [1, 4, 5, 6, 7, 8])"
      ]
     },
     "execution_count": 21,
     "metadata": {},
     "output_type": "execute_result"
    }
   ],
   "source": [
    "deferred_acceptance(s_prefs, c_prefs, caps, CProposing)"
   ]
  },
  {
   "cell_type": "markdown",
   "metadata": {
    "collapsed": true
   },
   "source": [
    "## Gusfield and Irving (1989)"
   ]
  },
  {
   "cell_type": "markdown",
   "metadata": {},
   "source": [
    "### Section 1.6.5"
   ]
  },
  {
   "cell_type": "code",
   "execution_count": 22,
   "metadata": {},
   "outputs": [],
   "source": [
    "m, n = 11, 5;"
   ]
  },
  {
   "cell_type": "code",
   "execution_count": 23,
   "metadata": {},
   "outputs": [
    {
     "data": {
      "text/plain": [
       "6×11 Array{Int64,2}:\n",
       " 3  1  4  3  1  4  2  1  4  3  5\n",
       " 1  3  5  4  4  3  5  3  1  1  4\n",
       " 5  4  3  1  2  2  1  2  5  5  1\n",
       " 4  2  1  5  0  1  3  5  0  2  3\n",
       " 0  5  2  0  3  5  0  4  2  4  2\n",
       " 2  0  0  2  5  0  4  0  3  0  0"
      ]
     },
     "execution_count": 23,
     "metadata": {},
     "output_type": "execute_result"
    }
   ],
   "source": [
    "s_prefs = [\n",
    "    3, 1, 5, 4, 0, 2,\n",
    "    1, 3, 4, 2, 5, 0,\n",
    "    4, 5, 3, 1, 2, 0,\n",
    "    3, 4, 1, 5, 0, 2,\n",
    "    1, 4, 2, 0, 3, 5,\n",
    "    4, 3, 2, 1, 5, 0,\n",
    "    2, 5, 1, 3, 0, 4,\n",
    "    1, 3, 2, 5, 4, 0,\n",
    "    4, 1, 5, 0, 2, 3,\n",
    "    3, 1, 5, 2, 4, 0,\n",
    "    5, 4, 1, 3, 2, 0,\n",
    "]\n",
    "s_prefs = reshape(s_prefs, n+1, m)"
   ]
  },
  {
   "cell_type": "code",
   "execution_count": 24,
   "metadata": {},
   "outputs": [
    {
     "data": {
      "text/plain": [
       "12×5 Array{Int64,2}:\n",
       "  3   5  11  10   2\n",
       "  7   7   6   1   4\n",
       "  9  10   8   2  10\n",
       " 11   6   3  11   7\n",
       "  5   8   2   4   6\n",
       "  4   2   4   9   1\n",
       " 10   3   7   5   8\n",
       "  8  11   1   3   3\n",
       "  6   0  10   6  11\n",
       "  1   1   0   8   9\n",
       "  2   4   5   0   0\n",
       "  0   9   9   7   5"
      ]
     },
     "execution_count": 24,
     "metadata": {},
     "output_type": "execute_result"
    }
   ],
   "source": [
    "c_prefs = [\n",
    "    3, 7, 9, 11, 5, 4, 10, 8, 6, 1, 2, 0,\n",
    "    5, 7, 10, 6, 8, 2, 3, 11, 0, 1, 4, 9,\n",
    "    11, 6, 8, 3, 2, 4, 7, 1, 10, 0, 5, 9,\n",
    "    10, 1, 2, 11, 4, 9, 5, 3, 6, 8, 0, 7,\n",
    "    2, 4, 10, 7, 6, 1, 8, 3, 11, 9, 0, 5,\n",
    "]\n",
    "c_prefs = reshape(c_prefs, m+1, n)"
   ]
  },
  {
   "cell_type": "code",
   "execution_count": 25,
   "metadata": {
    "collapsed": true
   },
   "outputs": [],
   "source": [
    "caps = [4, 1, 3, 2, 1];"
   ]
  },
  {
   "cell_type": "code",
   "execution_count": 26,
   "metadata": {},
   "outputs": [
    {
     "data": {
      "text/plain": [
       "([3, 1, 4, 3, 1, 3, 2, 1, 4, 1, 5], [2, 10, 8, 5, 7, 1, 6, 4, 3, 9, 11], [1, 5, 6, 9, 11, 12])"
      ]
     },
     "execution_count": 26,
     "metadata": {},
     "output_type": "execute_result"
    }
   ],
   "source": [
    "deferred_acceptance(s_prefs, c_prefs, caps)"
   ]
  },
  {
   "cell_type": "code",
   "execution_count": 27,
   "metadata": {},
   "outputs": [
    {
     "data": {
      "text/plain": [
       "([3, 1, 4, 3, 1, 3, 2, 1, 4, 1, 5], [2, 10, 8, 5, 7, 1, 6, 4, 3, 9, 11], [1, 5, 6, 9, 11, 12])"
      ]
     },
     "execution_count": 27,
     "metadata": {},
     "output_type": "execute_result"
    }
   ],
   "source": [
    "deferred_acceptance(s_prefs, c_prefs, caps, SProposing)"
   ]
  },
  {
   "cell_type": "code",
   "execution_count": 28,
   "metadata": {},
   "outputs": [
    {
     "data": {
      "text/plain": [
       "([4, 5, 3, 1, 1, 3, 2, 3, 1, 4, 1], [4, 5, 9, 11, 7, 3, 6, 8, 1, 10, 2], [1, 5, 6, 9, 11, 12])"
      ]
     },
     "execution_count": 28,
     "metadata": {},
     "output_type": "execute_result"
    }
   ],
   "source": [
    "deferred_acceptance(s_prefs, c_prefs, caps, CProposing)"
   ]
  },
  {
   "cell_type": "markdown",
   "metadata": {},
   "source": [
    "The book claims that the following matching $M_7$ is the hospital-optimal\n",
    "(college-optimal in our language) stable matching:\n",
    "$$\n",
    "\\begin{array}\n",
    "~   & r_1 & r_2 & r_3 & r_4 & r_5 & r_6 & r_7 & r_8 & r_9 & r_{10} & r_{11} \\\\\n",
    "M_7 & h_4 & h_4 & h_3 & h_1 & h_1 & h_3 & h_2 & h_3 & h_1 & h_5    & h_1\n",
    "\\end{array}\n",
    "$$\n",
    "\n",
    "but the above matching, say $M_8$, appears to be the hospital-optimal matching:\n",
    "$$\n",
    "\\begin{array}\n",
    "~   & r_1 & r_2 & r_3 & r_4 & r_5 & r_6 & r_7 & r_8 & r_9 & r_{10} & r_{11} \\\\\n",
    "M_8 & h_4 & h_5 & h_3 & h_1 & h_1 & h_3 & h_2 & h_3 & h_1 & h_4    & h_1\n",
    "\\end{array}\n",
    "$$"
   ]
  },
  {
   "cell_type": "code",
   "execution_count": null,
   "metadata": {
    "collapsed": true
   },
   "outputs": [],
   "source": []
  }
 ],
 "metadata": {
  "anaconda-cloud": {},
  "kernelspec": {
   "display_name": "Julia 0.6.0",
   "language": "julia",
   "name": "julia-0.6"
  },
  "language_info": {
   "file_extension": ".jl",
   "mimetype": "application/julia",
   "name": "julia",
   "version": "0.6.0"
  }
 },
 "nbformat": 4,
 "nbformat_minor": 1
}

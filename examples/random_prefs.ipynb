{
 "cells": [
  {
   "cell_type": "code",
   "execution_count": 1,
   "metadata": {},
   "outputs": [],
   "source": [
    "using MatchingMarkets"
   ]
  },
  {
   "cell_type": "code",
   "execution_count": 2,
   "metadata": {},
   "outputs": [],
   "source": [
    "m_prefs, f_prefs = random_prefs(4, 3);"
   ]
  },
  {
   "cell_type": "code",
   "execution_count": 3,
   "metadata": {},
   "outputs": [
    {
     "data": {
      "text/plain": [
       "4×4 Array{Int64,2}:\n",
       " 2  3  1  2\n",
       " 0  2  0  1\n",
       " 3  0  2  0\n",
       " 1  1  3  3"
      ]
     },
     "execution_count": 3,
     "metadata": {},
     "output_type": "execute_result"
    }
   ],
   "source": [
    "m_prefs"
   ]
  },
  {
   "cell_type": "code",
   "execution_count": 4,
   "metadata": {},
   "outputs": [
    {
     "data": {
      "text/plain": [
       "5×3 Array{Int64,2}:\n",
       " 2  3  1\n",
       " 4  2  3\n",
       " 3  4  4\n",
       " 0  0  0\n",
       " 1  1  2"
      ]
     },
     "execution_count": 4,
     "metadata": {},
     "output_type": "execute_result"
    }
   ],
   "source": [
    "f_prefs"
   ]
  },
  {
   "cell_type": "code",
   "execution_count": 5,
   "metadata": {},
   "outputs": [],
   "source": [
    "m_prefs, f_prefs = random_prefs(4, 3, allow_unmatched=false);"
   ]
  },
  {
   "cell_type": "code",
   "execution_count": 6,
   "metadata": {},
   "outputs": [
    {
     "data": {
      "text/plain": [
       "4×4 Array{Int64,2}:\n",
       " 2  3  2  3\n",
       " 1  2  1  2\n",
       " 3  1  3  1\n",
       " 0  0  0  0"
      ]
     },
     "execution_count": 6,
     "metadata": {},
     "output_type": "execute_result"
    }
   ],
   "source": [
    "m_prefs"
   ]
  },
  {
   "cell_type": "code",
   "execution_count": 7,
   "metadata": {
    "scrolled": true
   },
   "outputs": [
    {
     "data": {
      "text/plain": [
       "5×3 Array{Int64,2}:\n",
       " 1  2  4\n",
       " 3  3  3\n",
       " 4  4  1\n",
       " 2  1  2\n",
       " 0  0  0"
      ]
     },
     "execution_count": 7,
     "metadata": {},
     "output_type": "execute_result"
    }
   ],
   "source": [
    "f_prefs"
   ]
  },
  {
   "cell_type": "code",
   "execution_count": 8,
   "metadata": {},
   "outputs": [],
   "source": [
    "s_prefs, c_prefs, caps = random_prefs(4, 3, ReturnCaps);"
   ]
  },
  {
   "cell_type": "code",
   "execution_count": 9,
   "metadata": {},
   "outputs": [
    {
     "data": {
      "text/plain": [
       "4×4 Array{Int64,2}:\n",
       " 3  2  3  3\n",
       " 2  1  2  2\n",
       " 1  0  1  1\n",
       " 0  3  0  0"
      ]
     },
     "execution_count": 9,
     "metadata": {},
     "output_type": "execute_result"
    }
   ],
   "source": [
    "s_prefs"
   ]
  },
  {
   "cell_type": "code",
   "execution_count": 10,
   "metadata": {},
   "outputs": [
    {
     "data": {
      "text/plain": [
       "5×3 Array{Int64,2}:\n",
       " 4  1  3\n",
       " 1  3  0\n",
       " 0  0  1\n",
       " 2  4  4\n",
       " 3  2  2"
      ]
     },
     "execution_count": 10,
     "metadata": {},
     "output_type": "execute_result"
    }
   ],
   "source": [
    "c_prefs"
   ]
  },
  {
   "cell_type": "code",
   "execution_count": 11,
   "metadata": {},
   "outputs": [
    {
     "data": {
      "text/plain": [
       "3-element Array{Int64,1}:\n",
       " 3\n",
       " 2\n",
       " 2"
      ]
     },
     "execution_count": 11,
     "metadata": {},
     "output_type": "execute_result"
    }
   ],
   "source": [
    "caps"
   ]
  },
  {
   "cell_type": "code",
   "execution_count": 12,
   "metadata": {},
   "outputs": [],
   "source": [
    "s_prefs, c_prefs, caps = random_prefs(4, 3, ReturnCaps, allow_unmatched=false);"
   ]
  },
  {
   "cell_type": "code",
   "execution_count": 13,
   "metadata": {},
   "outputs": [
    {
     "data": {
      "text/plain": [
       "4×4 Array{Int64,2}:\n",
       " 1  2  3  1\n",
       " 2  1  1  3\n",
       " 3  3  2  2\n",
       " 0  0  0  0"
      ]
     },
     "execution_count": 13,
     "metadata": {},
     "output_type": "execute_result"
    }
   ],
   "source": [
    "s_prefs"
   ]
  },
  {
   "cell_type": "code",
   "execution_count": 14,
   "metadata": {},
   "outputs": [
    {
     "data": {
      "text/plain": [
       "5×3 Array{Int64,2}:\n",
       " 3  3  2\n",
       " 1  4  1\n",
       " 4  2  4\n",
       " 2  1  3\n",
       " 0  0  0"
      ]
     },
     "execution_count": 14,
     "metadata": {},
     "output_type": "execute_result"
    }
   ],
   "source": [
    "c_prefs"
   ]
  },
  {
   "cell_type": "code",
   "execution_count": 15,
   "metadata": {},
   "outputs": [
    {
     "data": {
      "text/plain": [
       "3-element Array{Int64,1}:\n",
       " 2\n",
       " 2\n",
       " 2"
      ]
     },
     "execution_count": 15,
     "metadata": {},
     "output_type": "execute_result"
    }
   ],
   "source": [
    "caps"
   ]
  },
  {
   "cell_type": "code",
   "execution_count": 16,
   "metadata": {},
   "outputs": [
    {
     "name": "stdout",
     "output_type": "stream",
     "text": [
      "search: \u001b[0m\u001b[1mr\u001b[22m\u001b[0m\u001b[1ma\u001b[22m\u001b[0m\u001b[1mn\u001b[22m\u001b[0m\u001b[1md\u001b[22m\u001b[0m\u001b[1mo\u001b[22m\u001b[0m\u001b[1mm\u001b[22m\u001b[0m\u001b[1m_\u001b[22m\u001b[0m\u001b[1mp\u001b[22m\u001b[0m\u001b[1mr\u001b[22m\u001b[0m\u001b[1me\u001b[22m\u001b[0m\u001b[1mf\u001b[22m\u001b[0m\u001b[1ms\u001b[22m\n",
      "\n"
     ]
    },
    {
     "data": {
      "text/latex": [
       "\\begin{verbatim}\n",
       "random_prefs([rng, ]m, n[, ReturnCaps]; allow_unmatched=true)\n",
       "\\end{verbatim}\n",
       "Generate random preference order lists for two groups, say, m males and n females.\n",
       "\n",
       "Each male has a preference order over femals [1, ..., n] and \"unmatched\" which is represented by 0, while each female has a preference order over males [1, ..., m] and \"unmatched\" which is again represented by 0.\n",
       "\n",
       "The argument \\texttt{ReturnCaps} should be supplied in the context of college admissions, in which case \"males\" and \"females\" should be read as \"students\" and \"colleges\", respectively, where each college has its capacity.\n",
       "\n",
       "The optional \\texttt{rng} argument specifies a random number generator.\n",
       "\n",
       "\\section{Arguments}\n",
       "\\begin{itemize}\n",
       "\\item \\texttt{m::Integer} : Number of males.\n",
       "\n",
       "\n",
       "\\item \\texttt{n::Integer} : Number of females.\n",
       "\n",
       "\n",
       "\\item \\texttt{::Type\\{ReturnCaps\\}} : If supplied, \\texttt{caps} is also returned.\n",
       "\n",
       "\n",
       "\\item \\texttt{;allow\\_unmatched::Bool(true)} : If false, return preference order lists of males and females where 0 is always placed in the last place, (i.e., \"unmatched\" is least preferred by every individual).\n",
       "\n",
       "\\end{itemize}\n",
       "\\section{Returns}\n",
       "\\begin{itemize}\n",
       "\\item \\texttt{m\\_prefs::Matrix\\{Int\\}} :  Array of shape (n+1, m), where each column contains a random permutation of 0, 1, ..., n.\n",
       "\n",
       "\n",
       "\\item \\texttt{f\\_prefs::Matrix\\{Int\\}} :  Array of shape (m+1, n), where each column contains a random permutation of 0, 1, ..., m.\n",
       "\n",
       "\n",
       "\\item \\texttt{caps::Vector\\{Int\\}} : Vector of length n containing each female's (or college's) capacity. Returned only when \\texttt{ReturnCaps} is supplied.\n",
       "\n",
       "\\end{itemize}\n",
       "\\section{Examples}\n",
       "\\begin{verbatim}\n",
       "julia> m_prefs, f_prefs = random_prefs(4, 3);\n",
       "\n",
       "julia> m_prefs\n",
       "4x4 Array{Int64,2}:\n",
       " 3  3  1  3\n",
       " 0  2  3  1\n",
       " 2  1  2  0\n",
       " 1  0  0  2\n",
       "\n",
       "julia> f_prefs\n",
       "5x3 Array{Int64,2}:\n",
       " 1  2  4\n",
       " 4  3  1\n",
       " 3  4  2\n",
       " 0  0  0\n",
       " 2  1  3\n",
       "\n",
       "julia> m_prefs, f_prefs = random_prefs(4, 3, allow_unmatched=false);\n",
       "\n",
       "julia> m_prefs\n",
       "4x4 Array{Int64,2}:\n",
       " 1  3  1  2\n",
       " 2  1  3  3\n",
       " 3  2  2  1\n",
       " 0  0  0  0\n",
       "\n",
       "julia> f_prefs\n",
       "5x3 Array{Int64,2}:\n",
       " 1  2  3\n",
       " 2  3  4\n",
       " 4  1  1\n",
       " 3  4  2\n",
       " 0  0  0\n",
       "\n",
       "julia> s_prefs, c_prefs, caps = random_prefs(4, 3, ReturnCaps);\n",
       "\n",
       "julia> s_prefs\n",
       "4x4 Array{Int64,2}:\n",
       " 2  1  2  1\n",
       " 1  3  1  0\n",
       " 3  2  3  3\n",
       " 0  0  0  2\n",
       "\n",
       "julia> c_prefs\n",
       "5x3 Array{Int64,2}:\n",
       " 3  4  1\n",
       " 0  1  4\n",
       " 4  3  0\n",
       " 1  2  3\n",
       " 2  0  2\n",
       "\n",
       "julia> caps\n",
       "3-element Array{Int64,1}:\n",
       " 1\n",
       " 2\n",
       " 2\n",
       "\\end{verbatim}\n"
      ],
      "text/markdown": [
       "```\n",
       "random_prefs([rng, ]m, n[, ReturnCaps]; allow_unmatched=true)\n",
       "```\n",
       "\n",
       "Generate random preference order lists for two groups, say, m males and n females.\n",
       "\n",
       "Each male has a preference order over femals [1, ..., n] and \"unmatched\" which is represented by 0, while each female has a preference order over males [1, ..., m] and \"unmatched\" which is again represented by 0.\n",
       "\n",
       "The argument `ReturnCaps` should be supplied in the context of college admissions, in which case \"males\" and \"females\" should be read as \"students\" and \"colleges\", respectively, where each college has its capacity.\n",
       "\n",
       "The optional `rng` argument specifies a random number generator.\n",
       "\n",
       "# Arguments\n",
       "\n",
       "  * `m::Integer` : Number of males.\n",
       "  * `n::Integer` : Number of females.\n",
       "  * `::Type{ReturnCaps}` : If supplied, `caps` is also returned.\n",
       "  * `;allow_unmatched::Bool(true)` : If false, return preference order lists of males and females where 0 is always placed in the last place, (i.e., \"unmatched\" is least preferred by every individual).\n",
       "\n",
       "# Returns\n",
       "\n",
       "  * `m_prefs::Matrix{Int}` :  Array of shape (n+1, m), where each column contains a random permutation of 0, 1, ..., n.\n",
       "  * `f_prefs::Matrix{Int}` :  Array of shape (m+1, n), where each column contains a random permutation of 0, 1, ..., m.\n",
       "  * `caps::Vector{Int}` : Vector of length n containing each female's (or college's) capacity. Returned only when `ReturnCaps` is supplied.\n",
       "\n",
       "# Examples\n",
       "\n",
       "```julia\n",
       "julia> m_prefs, f_prefs = random_prefs(4, 3);\n",
       "\n",
       "julia> m_prefs\n",
       "4x4 Array{Int64,2}:\n",
       " 3  3  1  3\n",
       " 0  2  3  1\n",
       " 2  1  2  0\n",
       " 1  0  0  2\n",
       "\n",
       "julia> f_prefs\n",
       "5x3 Array{Int64,2}:\n",
       " 1  2  4\n",
       " 4  3  1\n",
       " 3  4  2\n",
       " 0  0  0\n",
       " 2  1  3\n",
       "\n",
       "julia> m_prefs, f_prefs = random_prefs(4, 3, allow_unmatched=false);\n",
       "\n",
       "julia> m_prefs\n",
       "4x4 Array{Int64,2}:\n",
       " 1  3  1  2\n",
       " 2  1  3  3\n",
       " 3  2  2  1\n",
       " 0  0  0  0\n",
       "\n",
       "julia> f_prefs\n",
       "5x3 Array{Int64,2}:\n",
       " 1  2  3\n",
       " 2  3  4\n",
       " 4  1  1\n",
       " 3  4  2\n",
       " 0  0  0\n",
       "\n",
       "julia> s_prefs, c_prefs, caps = random_prefs(4, 3, ReturnCaps);\n",
       "\n",
       "julia> s_prefs\n",
       "4x4 Array{Int64,2}:\n",
       " 2  1  2  1\n",
       " 1  3  1  0\n",
       " 3  2  3  3\n",
       " 0  0  0  2\n",
       "\n",
       "julia> c_prefs\n",
       "5x3 Array{Int64,2}:\n",
       " 3  4  1\n",
       " 0  1  4\n",
       " 4  3  0\n",
       " 1  2  3\n",
       " 2  0  2\n",
       "\n",
       "julia> caps\n",
       "3-element Array{Int64,1}:\n",
       " 1\n",
       " 2\n",
       " 2\n",
       "```\n"
      ],
      "text/plain": [
       "\u001b[36m  random_prefs([rng, ]m, n[, ReturnCaps]; allow_unmatched=true)\u001b[39m\n",
       "\n",
       "  Generate random preference order lists for two groups, say, m males and n\n",
       "  females.\n",
       "\n",
       "  Each male has a preference order over femals [1, ..., n] and \"unmatched\"\n",
       "  which is represented by 0, while each female has a preference order over\n",
       "  males [1, ..., m] and \"unmatched\" which is again represented by 0.\n",
       "\n",
       "  The argument \u001b[36mReturnCaps\u001b[39m should be supplied in the context of college\n",
       "  admissions, in which case \"males\" and \"females\" should be read as \"students\"\n",
       "  and \"colleges\", respectively, where each college has its capacity.\n",
       "\n",
       "  The optional \u001b[36mrng\u001b[39m argument specifies a random number generator.\n",
       "\n",
       "\u001b[1m  Arguments\u001b[22m\n",
       "\u001b[1m  ≡≡≡≡≡≡≡≡≡≡≡\u001b[22m\n",
       "\n",
       "    •    \u001b[36mm::Integer\u001b[39m : Number of males.\n",
       "\n",
       "    •    \u001b[36mn::Integer\u001b[39m : Number of females.\n",
       "\n",
       "    •    \u001b[36m::Type{ReturnCaps}\u001b[39m : If supplied, \u001b[36mcaps\u001b[39m is also returned.\n",
       "\n",
       "    •    \u001b[36m;allow_unmatched::Bool(true)\u001b[39m : If false, return preference order\n",
       "        lists of males and females where 0 is always placed in the last\n",
       "        place, (i.e., \"unmatched\" is least preferred by every individual).\n",
       "\n",
       "\u001b[1m  Returns\u001b[22m\n",
       "\u001b[1m  ≡≡≡≡≡≡≡≡≡\u001b[22m\n",
       "\n",
       "    •    \u001b[36mm_prefs::Matrix{Int}\u001b[39m : Array of shape (n+1, m), where each column\n",
       "        contains a random permutation of 0, 1, ..., n.\n",
       "\n",
       "    •    \u001b[36mf_prefs::Matrix{Int}\u001b[39m : Array of shape (m+1, n), where each column\n",
       "        contains a random permutation of 0, 1, ..., m.\n",
       "\n",
       "    •    \u001b[36mcaps::Vector{Int}\u001b[39m : Vector of length n containing each female's\n",
       "        (or college's) capacity. Returned only when \u001b[36mReturnCaps\u001b[39m is\n",
       "        supplied.\n",
       "\n",
       "\u001b[1m  Examples\u001b[22m\n",
       "\u001b[1m  ≡≡≡≡≡≡≡≡≡≡\u001b[22m\n",
       "\n",
       "\u001b[36m  julia> m_prefs, f_prefs = random_prefs(4, 3);\u001b[39m\n",
       "\u001b[36m  \u001b[39m\n",
       "\u001b[36m  julia> m_prefs\u001b[39m\n",
       "\u001b[36m  4x4 Array{Int64,2}:\u001b[39m\n",
       "\u001b[36m   3  3  1  3\u001b[39m\n",
       "\u001b[36m   0  2  3  1\u001b[39m\n",
       "\u001b[36m   2  1  2  0\u001b[39m\n",
       "\u001b[36m   1  0  0  2\u001b[39m\n",
       "\u001b[36m  \u001b[39m\n",
       "\u001b[36m  julia> f_prefs\u001b[39m\n",
       "\u001b[36m  5x3 Array{Int64,2}:\u001b[39m\n",
       "\u001b[36m   1  2  4\u001b[39m\n",
       "\u001b[36m   4  3  1\u001b[39m\n",
       "\u001b[36m   3  4  2\u001b[39m\n",
       "\u001b[36m   0  0  0\u001b[39m\n",
       "\u001b[36m   2  1  3\u001b[39m\n",
       "\u001b[36m  \u001b[39m\n",
       "\u001b[36m  julia> m_prefs, f_prefs = random_prefs(4, 3, allow_unmatched=false);\u001b[39m\n",
       "\u001b[36m  \u001b[39m\n",
       "\u001b[36m  julia> m_prefs\u001b[39m\n",
       "\u001b[36m  4x4 Array{Int64,2}:\u001b[39m\n",
       "\u001b[36m   1  3  1  2\u001b[39m\n",
       "\u001b[36m   2  1  3  3\u001b[39m\n",
       "\u001b[36m   3  2  2  1\u001b[39m\n",
       "\u001b[36m   0  0  0  0\u001b[39m\n",
       "\u001b[36m  \u001b[39m\n",
       "\u001b[36m  julia> f_prefs\u001b[39m\n",
       "\u001b[36m  5x3 Array{Int64,2}:\u001b[39m\n",
       "\u001b[36m   1  2  3\u001b[39m\n",
       "\u001b[36m   2  3  4\u001b[39m\n",
       "\u001b[36m   4  1  1\u001b[39m\n",
       "\u001b[36m   3  4  2\u001b[39m\n",
       "\u001b[36m   0  0  0\u001b[39m\n",
       "\u001b[36m  \u001b[39m\n",
       "\u001b[36m  julia> s_prefs, c_prefs, caps = random_prefs(4, 3, ReturnCaps);\u001b[39m\n",
       "\u001b[36m  \u001b[39m\n",
       "\u001b[36m  julia> s_prefs\u001b[39m\n",
       "\u001b[36m  4x4 Array{Int64,2}:\u001b[39m\n",
       "\u001b[36m   2  1  2  1\u001b[39m\n",
       "\u001b[36m   1  3  1  0\u001b[39m\n",
       "\u001b[36m   3  2  3  3\u001b[39m\n",
       "\u001b[36m   0  0  0  2\u001b[39m\n",
       "\u001b[36m  \u001b[39m\n",
       "\u001b[36m  julia> c_prefs\u001b[39m\n",
       "\u001b[36m  5x3 Array{Int64,2}:\u001b[39m\n",
       "\u001b[36m   3  4  1\u001b[39m\n",
       "\u001b[36m   0  1  4\u001b[39m\n",
       "\u001b[36m   4  3  0\u001b[39m\n",
       "\u001b[36m   1  2  3\u001b[39m\n",
       "\u001b[36m   2  0  2\u001b[39m\n",
       "\u001b[36m  \u001b[39m\n",
       "\u001b[36m  julia> caps\u001b[39m\n",
       "\u001b[36m  3-element Array{Int64,1}:\u001b[39m\n",
       "\u001b[36m   1\u001b[39m\n",
       "\u001b[36m   2\u001b[39m\n",
       "\u001b[36m   2\u001b[39m"
      ]
     },
     "execution_count": 16,
     "metadata": {},
     "output_type": "execute_result"
    }
   ],
   "source": [
    "?random_prefs"
   ]
  },
  {
   "cell_type": "code",
   "execution_count": null,
   "metadata": {},
   "outputs": [],
   "source": []
  }
 ],
 "metadata": {
  "@webio": {
   "lastCommId": null,
   "lastKernelId": null
  },
  "kernelspec": {
   "display_name": "Julia 1.4.1",
   "language": "julia",
   "name": "julia-1.4"
  },
  "language_info": {
   "file_extension": ".jl",
   "mimetype": "application/julia",
   "name": "julia",
   "version": "1.4.1"
  }
 },
 "nbformat": 4,
 "nbformat_minor": 1
}

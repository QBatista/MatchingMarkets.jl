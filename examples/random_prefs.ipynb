{
 "cells": [
  {
   "cell_type": "code",
   "execution_count": 1,
   "metadata": {
    "collapsed": true
   },
   "outputs": [],
   "source": [
    "using Matching"
   ]
  },
  {
   "cell_type": "code",
   "execution_count": 2,
   "metadata": {
    "collapsed": false
   },
   "outputs": [],
   "source": [
    "m_prefs, f_prefs = random_prefs(4, 3);"
   ]
  },
  {
   "cell_type": "code",
   "execution_count": 3,
   "metadata": {
    "collapsed": false
   },
   "outputs": [
    {
     "data": {
      "text/plain": [
       "4x4 Array{Int64,2}:\n",
       " 3  3  2  3\n",
       " 1  0  0  1\n",
       " 0  2  1  0\n",
       " 2  1  3  2"
      ]
     },
     "execution_count": 3,
     "metadata": {},
     "output_type": "execute_result"
    }
   ],
   "source": [
    "m_prefs"
   ]
  },
  {
   "cell_type": "code",
   "execution_count": 4,
   "metadata": {
    "collapsed": false
   },
   "outputs": [
    {
     "data": {
      "text/plain": [
       "5x3 Array{Int64,2}:\n",
       " 4  1  1\n",
       " 3  3  2\n",
       " 2  4  3\n",
       " 0  0  0\n",
       " 1  2  4"
      ]
     },
     "execution_count": 4,
     "metadata": {},
     "output_type": "execute_result"
    }
   ],
   "source": [
    "f_prefs"
   ]
  },
  {
   "cell_type": "code",
   "execution_count": 5,
   "metadata": {
    "collapsed": true
   },
   "outputs": [],
   "source": [
    "m_prefs, f_prefs = random_prefs(4, 3, allow_unmatched=false);"
   ]
  },
  {
   "cell_type": "code",
   "execution_count": 6,
   "metadata": {
    "collapsed": false
   },
   "outputs": [
    {
     "data": {
      "text/plain": [
       "4x4 Array{Int64,2}:\n",
       " 2  1  2  3\n",
       " 1  3  3  2\n",
       " 3  2  1  1\n",
       " 0  0  0  0"
      ]
     },
     "execution_count": 6,
     "metadata": {},
     "output_type": "execute_result"
    }
   ],
   "source": [
    "m_prefs"
   ]
  },
  {
   "cell_type": "code",
   "execution_count": 7,
   "metadata": {
    "collapsed": false,
    "scrolled": true
   },
   "outputs": [
    {
     "data": {
      "text/plain": [
       "5x3 Array{Int64,2}:\n",
       " 3  1  4\n",
       " 4  3  1\n",
       " 1  4  2\n",
       " 2  2  3\n",
       " 0  0  0"
      ]
     },
     "execution_count": 7,
     "metadata": {},
     "output_type": "execute_result"
    }
   ],
   "source": [
    "f_prefs"
   ]
  },
  {
   "cell_type": "code",
   "execution_count": 8,
   "metadata": {
    "collapsed": true
   },
   "outputs": [],
   "source": [
    "s_prefs, c_prefs, caps = random_prefs(4, 3, ReturnCaps);"
   ]
  },
  {
   "cell_type": "code",
   "execution_count": 9,
   "metadata": {
    "collapsed": false
   },
   "outputs": [
    {
     "data": {
      "text/plain": [
       "4x4 Array{Int64,2}:\n",
       " 2  1  2  1\n",
       " 0  3  0  0\n",
       " 3  2  3  3\n",
       " 1  0  1  2"
      ]
     },
     "execution_count": 9,
     "metadata": {},
     "output_type": "execute_result"
    }
   ],
   "source": [
    "s_prefs"
   ]
  },
  {
   "cell_type": "code",
   "execution_count": 10,
   "metadata": {
    "collapsed": false
   },
   "outputs": [
    {
     "data": {
      "text/plain": [
       "5x3 Array{Int64,2}:\n",
       " 4  2  4\n",
       " 2  1  2\n",
       " 0  3  3\n",
       " 3  0  0\n",
       " 1  4  1"
      ]
     },
     "execution_count": 10,
     "metadata": {},
     "output_type": "execute_result"
    }
   ],
   "source": [
    "c_prefs"
   ]
  },
  {
   "cell_type": "code",
   "execution_count": 11,
   "metadata": {
    "collapsed": false
   },
   "outputs": [
    {
     "data": {
      "text/plain": [
       "3-element Array{Int64,1}:\n",
       " 1\n",
       " 1\n",
       " 2"
      ]
     },
     "execution_count": 11,
     "metadata": {},
     "output_type": "execute_result"
    }
   ],
   "source": [
    "caps"
   ]
  },
  {
   "cell_type": "code",
   "execution_count": 12,
   "metadata": {
    "collapsed": true
   },
   "outputs": [],
   "source": [
    "s_prefs, c_prefs, caps = random_prefs(4, 3, ReturnCaps, allow_unmatched=false);"
   ]
  },
  {
   "cell_type": "code",
   "execution_count": 13,
   "metadata": {
    "collapsed": false
   },
   "outputs": [
    {
     "data": {
      "text/plain": [
       "4x4 Array{Int64,2}:\n",
       " 2  3  1  1\n",
       " 3  2  3  3\n",
       " 1  1  2  2\n",
       " 0  0  0  0"
      ]
     },
     "execution_count": 13,
     "metadata": {},
     "output_type": "execute_result"
    }
   ],
   "source": [
    "s_prefs"
   ]
  },
  {
   "cell_type": "code",
   "execution_count": 14,
   "metadata": {
    "collapsed": false
   },
   "outputs": [
    {
     "data": {
      "text/plain": [
       "5x3 Array{Int64,2}:\n",
       " 2  4  4\n",
       " 1  2  2\n",
       " 3  3  3\n",
       " 4  1  1\n",
       " 0  0  0"
      ]
     },
     "execution_count": 14,
     "metadata": {},
     "output_type": "execute_result"
    }
   ],
   "source": [
    "c_prefs"
   ]
  },
  {
   "cell_type": "code",
   "execution_count": 15,
   "metadata": {
    "collapsed": false
   },
   "outputs": [
    {
     "data": {
      "text/plain": [
       "3-element Array{Int64,1}:\n",
       " 1\n",
       " 4\n",
       " 1"
      ]
     },
     "execution_count": 15,
     "metadata": {},
     "output_type": "execute_result"
    }
   ],
   "source": [
    "caps"
   ]
  },
  {
   "cell_type": "code",
   "execution_count": 16,
   "metadata": {
    "collapsed": false
   },
   "outputs": [
    {
     "name": "stdout",
     "output_type": "stream",
     "text": [
      "search: random_prefs\n",
      "\n"
     ]
    },
    {
     "data": {
      "text/latex": [
       "\\begin{verbatim}\n",
       "random_prefs([rng, ]m, n[, ReturnCaps]; allow_unmatched=true)\n",
       "\\end{verbatim}\n",
       "Generate random preference order lists for two groups, say, m males and n females.\n",
       "Each male has a preference order over femals [1, ..., n] and \"unmatched\" which is represented by 0, while each female has a preference order over males [1, ..., m] and \"unmatched\" which is again represented by 0.\n",
       "The argument \\texttt{ReturnCaps} should be supplied in the context of college admissions, in which case \"males\" and \"females\" should be read as \"students\" and \"colleges\", respectively, where each college has its capacity.\n",
       "The optional \\texttt{rng} argument specifies a random number generator.\n",
       "\\section{Arguments}\n",
       "\\begin{itemize}\n",
       "\\item \\texttt{m::Integer} : Number of males.\n",
       "\\item \\texttt{n::Integer} : Number of females.\n",
       "\\item \\texttt{::Type{ReturnCaps}} : If supplied, \\texttt{caps} is also returned.\n",
       "\\item \\texttt{;allow_unmatched::Bool(true)} : If false, return preference order lists of   males and females where 0 is always placed in the last place, (i.e.,   \"unmatched\" is least preferred by every individual).\n",
       "\\end{itemize}\n",
       "\\section{Returns}\n",
       "\\begin{itemize}\n",
       "\\item \\texttt{m_prefs::Matrix{Int}} :  Array of shape (n+1, m), where each column contains   a random permutation of 0, 1, ..., n.\n",
       "\\item \\texttt{f_prefs::Matrix{Int}} :  Array of shape (m+1, n), where each column contains   a random permutation of 0, 1, ..., m.\n",
       "\\item \\texttt{caps::Vector{Int}} : Vector of length n containing each female's (or   college's) capacity. Returned only when \\texttt{ReturnCaps} is supplied.\n",
       "\\end{itemize}\n",
       "\\section{Examples}\n",
       "\\begin{verbatim}\n",
       "julia> m_prefs, f_prefs = random_prefs(4, 3);\n",
       "\n",
       "julia> m_prefs\n",
       "4x4 Array{Int64,2}:\n",
       " 3  3  1  3\n",
       " 0  2  3  1\n",
       " 2  1  2  0\n",
       " 1  0  0  2\n",
       "\n",
       "julia> f_prefs\n",
       "5x3 Array{Int64,2}:\n",
       " 1  2  4\n",
       " 4  3  1\n",
       " 3  4  2\n",
       " 0  0  0\n",
       " 2  1  3\n",
       "\n",
       "julia> m_prefs, f_prefs = random_prefs(4, 3, allow_unmatched=false);\n",
       "\n",
       "julia> m_prefs\n",
       "4x4 Array{Int64,2}:\n",
       " 1  3  1  2\n",
       " 2  1  3  3\n",
       " 3  2  2  1\n",
       " 0  0  0  0\n",
       "\n",
       "julia> f_prefs\n",
       "5x3 Array{Int64,2}:\n",
       " 1  2  3\n",
       " 2  3  4\n",
       " 4  1  1\n",
       " 3  4  2\n",
       " 0  0  0\n",
       "\n",
       "julia> s_prefs, c_prefs, caps = random_prefs(4, 3, ReturnCaps);\n",
       "\n",
       "julia> s_prefs\n",
       "4x4 Array{Int64,2}:\n",
       " 2  1  2  1\n",
       " 1  3  1  0\n",
       " 3  2  3  3\n",
       " 0  0  0  2\n",
       "\n",
       "julia> c_prefs\n",
       "5x3 Array{Int64,2}:\n",
       " 3  4  1\n",
       " 0  1  4\n",
       " 4  3  0\n",
       " 1  2  3\n",
       " 2  0  2\n",
       "\n",
       "julia> caps\n",
       "3-element Array{Int64,1}:\n",
       " 1\n",
       " 2\n",
       " 2\n",
       "\\end{verbatim}\n"
      ],
      "text/markdown": [
       "```\n",
       "random_prefs([rng, ]m, n[, ReturnCaps]; allow_unmatched=true)\n",
       "```\n",
       "\n",
       "Generate random preference order lists for two groups, say, m males and n females.\n",
       "\n",
       "Each male has a preference order over femals [1, ..., n] and \"unmatched\" which is represented by 0, while each female has a preference order over males [1, ..., m] and \"unmatched\" which is again represented by 0.\n",
       "\n",
       "The argument `ReturnCaps` should be supplied in the context of college admissions, in which case \"males\" and \"females\" should be read as \"students\" and \"colleges\", respectively, where each college has its capacity.\n",
       "\n",
       "The optional `rng` argument specifies a random number generator.\n",
       "\n",
       "# Arguments\n",
       "\n",
       "  * `m::Integer` : Number of males.\n",
       "  * `n::Integer` : Number of females.\n",
       "  * `::Type{ReturnCaps}` : If supplied, `caps` is also returned.\n",
       "  * `;allow_unmatched::Bool(true)` : If false, return preference order lists of   males and females where 0 is always placed in the last place, (i.e.,   \"unmatched\" is least preferred by every individual).\n",
       "\n",
       "# Returns\n",
       "\n",
       "  * `m_prefs::Matrix{Int}` :  Array of shape (n+1, m), where each column contains   a random permutation of 0, 1, ..., n.\n",
       "  * `f_prefs::Matrix{Int}` :  Array of shape (m+1, n), where each column contains   a random permutation of 0, 1, ..., m.\n",
       "  * `caps::Vector{Int}` : Vector of length n containing each female's (or   college's) capacity. Returned only when `ReturnCaps` is supplied.\n",
       "\n",
       "# Examples\n",
       "\n",
       "```julia\n",
       "julia> m_prefs, f_prefs = random_prefs(4, 3);\n",
       "\n",
       "julia> m_prefs\n",
       "4x4 Array{Int64,2}:\n",
       " 3  3  1  3\n",
       " 0  2  3  1\n",
       " 2  1  2  0\n",
       " 1  0  0  2\n",
       "\n",
       "julia> f_prefs\n",
       "5x3 Array{Int64,2}:\n",
       " 1  2  4\n",
       " 4  3  1\n",
       " 3  4  2\n",
       " 0  0  0\n",
       " 2  1  3\n",
       "\n",
       "julia> m_prefs, f_prefs = random_prefs(4, 3, allow_unmatched=false);\n",
       "\n",
       "julia> m_prefs\n",
       "4x4 Array{Int64,2}:\n",
       " 1  3  1  2\n",
       " 2  1  3  3\n",
       " 3  2  2  1\n",
       " 0  0  0  0\n",
       "\n",
       "julia> f_prefs\n",
       "5x3 Array{Int64,2}:\n",
       " 1  2  3\n",
       " 2  3  4\n",
       " 4  1  1\n",
       " 3  4  2\n",
       " 0  0  0\n",
       "\n",
       "julia> s_prefs, c_prefs, caps = random_prefs(4, 3, ReturnCaps);\n",
       "\n",
       "julia> s_prefs\n",
       "4x4 Array{Int64,2}:\n",
       " 2  1  2  1\n",
       " 1  3  1  0\n",
       " 3  2  3  3\n",
       " 0  0  0  2\n",
       "\n",
       "julia> c_prefs\n",
       "5x3 Array{Int64,2}:\n",
       " 3  4  1\n",
       " 0  1  4\n",
       " 4  3  0\n",
       " 1  2  3\n",
       " 2  0  2\n",
       "\n",
       "julia> caps\n",
       "3-element Array{Int64,1}:\n",
       " 1\n",
       " 2\n",
       " 2\n",
       "```\n"
      ],
      "text/plain": [
       "```\n",
       "random_prefs([rng, ]m, n[, ReturnCaps]; allow_unmatched=true)\n",
       "```\n",
       "\n",
       "Generate random preference order lists for two groups, say, m males and n females.\n",
       "\n",
       "Each male has a preference order over femals [1, ..., n] and \"unmatched\" which is represented by 0, while each female has a preference order over males [1, ..., m] and \"unmatched\" which is again represented by 0.\n",
       "\n",
       "The argument `ReturnCaps` should be supplied in the context of college admissions, in which case \"males\" and \"females\" should be read as \"students\" and \"colleges\", respectively, where each college has its capacity.\n",
       "\n",
       "The optional `rng` argument specifies a random number generator.\n",
       "\n",
       "# Arguments\n",
       "\n",
       "  * `m::Integer` : Number of males.\n",
       "  * `n::Integer` : Number of females.\n",
       "  * `::Type{ReturnCaps}` : If supplied, `caps` is also returned.\n",
       "  * `;allow_unmatched::Bool(true)` : If false, return preference order lists of   males and females where 0 is always placed in the last place, (i.e.,   \"unmatched\" is least preferred by every individual).\n",
       "\n",
       "# Returns\n",
       "\n",
       "  * `m_prefs::Matrix{Int}` :  Array of shape (n+1, m), where each column contains   a random permutation of 0, 1, ..., n.\n",
       "  * `f_prefs::Matrix{Int}` :  Array of shape (m+1, n), where each column contains   a random permutation of 0, 1, ..., m.\n",
       "  * `caps::Vector{Int}` : Vector of length n containing each female's (or   college's) capacity. Returned only when `ReturnCaps` is supplied.\n",
       "\n",
       "# Examples\n",
       "\n",
       "```julia\n",
       "julia> m_prefs, f_prefs = random_prefs(4, 3);\n",
       "\n",
       "julia> m_prefs\n",
       "4x4 Array{Int64,2}:\n",
       " 3  3  1  3\n",
       " 0  2  3  1\n",
       " 2  1  2  0\n",
       " 1  0  0  2\n",
       "\n",
       "julia> f_prefs\n",
       "5x3 Array{Int64,2}:\n",
       " 1  2  4\n",
       " 4  3  1\n",
       " 3  4  2\n",
       " 0  0  0\n",
       " 2  1  3\n",
       "\n",
       "julia> m_prefs, f_prefs = random_prefs(4, 3, allow_unmatched=false);\n",
       "\n",
       "julia> m_prefs\n",
       "4x4 Array{Int64,2}:\n",
       " 1  3  1  2\n",
       " 2  1  3  3\n",
       " 3  2  2  1\n",
       " 0  0  0  0\n",
       "\n",
       "julia> f_prefs\n",
       "5x3 Array{Int64,2}:\n",
       " 1  2  3\n",
       " 2  3  4\n",
       " 4  1  1\n",
       " 3  4  2\n",
       " 0  0  0\n",
       "\n",
       "julia> s_prefs, c_prefs, caps = random_prefs(4, 3, ReturnCaps);\n",
       "\n",
       "julia> s_prefs\n",
       "4x4 Array{Int64,2}:\n",
       " 2  1  2  1\n",
       " 1  3  1  0\n",
       " 3  2  3  3\n",
       " 0  0  0  2\n",
       "\n",
       "julia> c_prefs\n",
       "5x3 Array{Int64,2}:\n",
       " 3  4  1\n",
       " 0  1  4\n",
       " 4  3  0\n",
       " 1  2  3\n",
       " 2  0  2\n",
       "\n",
       "julia> caps\n",
       "3-element Array{Int64,1}:\n",
       " 1\n",
       " 2\n",
       " 2\n",
       "```\n"
      ]
     },
     "execution_count": 16,
     "metadata": {},
     "output_type": "execute_result"
    }
   ],
   "source": [
    "?random_prefs"
   ]
  },
  {
   "cell_type": "code",
   "execution_count": null,
   "metadata": {
    "collapsed": true
   },
   "outputs": [],
   "source": []
  }
 ],
 "metadata": {
  "kernelspec": {
   "display_name": "Julia 0.4.5",
   "language": "julia",
   "name": "julia-0.4"
  },
  "language_info": {
   "file_extension": ".jl",
   "mimetype": "application/julia",
   "name": "julia",
   "version": "0.4.5"
  }
 },
 "nbformat": 4,
 "nbformat_minor": 0
}
